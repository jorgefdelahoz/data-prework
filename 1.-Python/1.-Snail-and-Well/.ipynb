{
 "cells": [
  {
   "cell_type": "markdown",
   "metadata": {},
   "source": [
    "<img src=\"https://bit.ly/2VnXWr2\" width=\"100\" align=\"left\">"
   ]
  },
  {
   "cell_type": "markdown",
   "metadata": {},
   "source": [
    "# The Snail and the Well\n",
    "\n",
    "A snail falls at the bottom of a 125 cm well. Each day the snail rises 30 cm. But at night, while sleeping, slides 20 cm because the walls are wet. How many days does it take for the snail to escape the well?\n",
    "\n",
    "**Hint**: The snail gets out of the well when it surpasses the 125cm of height.\n",
    "\n",
    "## Tools\n",
    "\n",
    "1. Loop: **while**\n",
    "2. Conditional statements: **if-else**\n",
    "3. Function: **print()**\n",
    "\n",
    "## Tasks\n",
    "\n",
    "#### 1. Assign the challenge data to variables with representative names: `well_height`, `daily_distance`, `nightly_distance` and `snail_position`."
   ]
  },
  {
   "cell_type": "code",
   "execution_count": 13,
   "metadata": {},
   "outputs": [],
   "source": [
    "well_height = 125\n",
    "daily_distance = 30\n",
    "nightly_distance = 20\n",
    "snail_position = 0"
   ]
  },
  {
   "cell_type": "markdown",
   "metadata": {},
   "source": [
    "#### 2. Create a variable `days` to keep count of the days that pass until the snail escapes the well. "
   ]
  },
  {
   "cell_type": "code",
   "execution_count": 14,
   "metadata": {},
   "outputs": [],
   "source": [
    "day = 1"
   ]
  },
  {
   "cell_type": "markdown",
   "metadata": {},
   "source": [
    "#### 3. Find the solution to the challenge using the variables defined above. "
   ]
  },
  {
   "cell_type": "code",
   "execution_count": 15,
   "metadata": {},
   "outputs": [
    {
     "name": "stdout",
     "output_type": "stream",
     "text": [
      "Day 1: 10 cm\n",
      "Day 2: 20 cm\n",
      "Day 3: 30 cm\n",
      "Day 4: 40 cm\n",
      "Day 5: 50 cm\n",
      "Day 6: 60 cm\n",
      "Day 7: 70 cm\n",
      "Day 8: 80 cm\n",
      "Day 9: 90 cm\n",
      "Day 10: 100 cm\n"
     ]
    }
   ],
   "source": [
    "while snail_position < well_height:\n",
    "\tsnail_position = snail_position + daily_distance\n",
    "\tif snail_position < well_height:\n",
    "\t\tsnail_position = snail_position - nightly_distance\n",
    "\t\tprint(f\"Day {day}: {snail_position} cm\")\n",
    "\telse: \n",
    "\t\tbreak\n",
    "\tday = day + 1"
   ]
  },
  {
   "cell_type": "markdown",
   "metadata": {},
   "source": [
    "#### 4. Print the solution."
   ]
  },
  {
   "cell_type": "code",
   "execution_count": 16,
   "metadata": {},
   "outputs": [
    {
     "name": "stdout",
     "output_type": "stream",
     "text": [
      "The Snail has escaped in 11 days, rising 130 cm\n"
     ]
    }
   ],
   "source": [
    "print(f\"The Snail has escaped in {day} days, rising {snail_position} cm\")"
   ]
  },
  {
   "cell_type": "markdown",
   "metadata": {},
   "source": [
    "## Bonus\n",
    "The distance traveled by the snail each day is now defined by a list.\n",
    "```\n",
    "advance_cm = [30, 21, 33, 77, 44, 45, 23, 45, 12, 34, 55]\n",
    "```\n",
    "On the first day, the snail rises 30cm but during the night it slides 20cm. On the second day, the snail rises 21cm but during the night it slides 20cm, and so on. \n",
    "\n",
    "#### 1. How many days does it take for the snail to escape the well?\n",
    "Follow the same guidelines as in the previous challenge.\n",
    "\n",
    "**Hint**: Remember that the snail gets out of the well when it surpasses the 125cm of height."
   ]
  },
  {
   "cell_type": "code",
   "execution_count": 1,
   "metadata": {},
   "outputs": [
    {
     "name": "stdout",
     "output_type": "stream",
     "text": [
      "Day 1: 10 cm\n",
      "Day 2: 11 cm\n",
      "Day 3: 24 cm\n",
      "Day 4: 81 cm\n",
      "Day 5: 105 cm\n",
      "The Snail has escaped in 6 days, rising 150 cm\n"
     ]
    }
   ],
   "source": [
    "well_height = 125\n",
    "advance_cm = [30, 21, 33, 77, 44, 45, 23, 45, 12, 34, 55] \n",
    "nightly_distance = 20\n",
    "snail_position = 0\n",
    "day = int(1)\t\n",
    "\n",
    "while snail_position < well_height:\n",
    "\tfor i in advance_cm:\n",
    "\t\tsnail_position += i\n",
    "\t\tif snail_position <= well_height:\n",
    "\t\t\tsnail_position = snail_position - nightly_distance\n",
    "\t\t\tprint(f\"Day {day}: {snail_position} cm\")\n",
    "\t\telse:\n",
    "\t\t\tbreak\n",
    "\t\tday = day + 1\n",
    "print(f\"The Snail has escaped in {day} days, rising {snail_position} cm\")\n"
   ]
  },
  {
   "cell_type": "markdown",
   "metadata": {},
   "source": [
    "#### 2. What is its maximum displacement in one day? And its minimum? Calculate the displacement using only the travel distance of the days used to get out of the well. \n",
    "**Hint**: Remember that displacement means the total distance risen taking into account that the snail slides at night.  "
   ]
  },
  {
   "cell_type": "code",
   "execution_count": 2,
   "metadata": {},
   "outputs": [
    {
     "name": "stdout",
     "output_type": "stream",
     "text": [
      "\n",
      "Maximum displacement: 77 cm\n",
      "Minimum displacement: 12 cm\n",
      "Total displacement: 270 cm\n"
     ]
    }
   ],
   "source": [
    "print(f\"\\nMaximum displacement: {max(advance_cm)} cm\\nMinimum displacement: {min(advance_cm)} cm\\nTotal displacement: {snail_position + (day * 20)} cm\")"
   ]
  },
  {
   "cell_type": "markdown",
   "metadata": {},
   "source": [
    "#### 3. What is its average progress? Take into account the snail slides at night."
   ]
  },
  {
   "cell_type": "code",
   "execution_count": 3,
   "metadata": {},
   "outputs": [
    {
     "name": "stdout",
     "output_type": "stream",
     "text": [
      "Average progress: 25.0\n"
     ]
    }
   ],
   "source": [
    "print(f\"Average progress: {snail_position/day}\")"
   ]
  },
  {
   "cell_type": "markdown",
   "metadata": {},
   "source": [
    "#### 4. What is the standard deviation of its displacement? Take into account the snail slides at night."
   ]
  },
  {
   "cell_type": "code",
   "execution_count": 5,
   "metadata": {},
   "outputs": [
    {
     "name": "stdout",
     "output_type": "stream",
     "text": [
      "17.16\n"
     ]
    }
   ],
   "source": [
    "mean = sum(advance_cm)/len(advance_cm)\n",
    "l = []\n",
    "for i in advance_cm:\n",
    "\tx = (i - mean)**2\n",
    "\tl.append(x)\n",
    "\n",
    "variation = sum(l)/len(l)\n",
    "\n",
    "standard_deviation = round((variation**0.5),2) \n",
    "print(standard_deviation)\n"
   ]
  },
  {
   "cell_type": "code",
   "execution_count": null,
   "metadata": {},
   "outputs": [],
   "source": []
  }
 ],
 "metadata": {
  "kernelspec": {
   "display_name": "Python 3",
   "language": "python",
   "name": "python3"
  },
  "language_info": {
   "codemirror_mode": {
    "name": "ipython",
    "version": 3
   },
   "file_extension": ".py",
   "mimetype": "text/x-python",
   "name": "python",
   "nbconvert_exporter": "python",
   "pygments_lexer": "ipython3",
   "version": "3.7.6"
  }
 },
 "nbformat": 4,
 "nbformat_minor": 2
}
